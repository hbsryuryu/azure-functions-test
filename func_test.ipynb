{
 "cells": [
  {
   "cell_type": "code",
   "execution_count": 7,
   "id": "383125a0",
   "metadata": {},
   "outputs": [],
   "source": [
    "import os\n",
    "import sys\n",
    "\n",
    "try:\n",
    "    BASE_DIR = os.path.dirname(os.path.abspath(__file__))\n",
    "except (NameError, ImportError):\n",
    "    BASE_DIR = os.path.abspath(\"./\") # jupyterなど__file__定義ない場合\n",
    "if BASE_DIR not in sys.path:\n",
    "    sys.path.insert(0, BASE_DIR) # 優先度上げる\n",
    "# print(sys.path) # pythonpath確認用"
   ]
  },
  {
   "cell_type": "code",
   "execution_count": 23,
   "id": "70c1cd7f",
   "metadata": {},
   "outputs": [],
   "source": [
    "from dotenv import load_dotenv\n",
    "# 環境変数読み込み\n",
    "load_dotenv(override=True)\n",
    "\n",
    "import importlib\n",
    "import action_function\n",
    "importlib.reload(action_function)\n",
    "importlib.reload(action_function.main)\n",
    "\n",
    "class logging:\n",
    "    def info(self):\n",
    "        print(self)"
   ]
  },
  {
   "cell_type": "code",
   "execution_count": null,
   "id": "d330fc71",
   "metadata": {},
   "outputs": [
    {
     "name": "stdout",
     "output_type": "stream",
     "text": [
      "test\n"
     ]
    }
   ],
   "source": [
    "from TimerCallWebApp.main import main_func\n",
    "main_func()"
   ]
  }
 ],
 "metadata": {
  "kernelspec": {
   "display_name": "Python 3",
   "language": "python",
   "name": "python3"
  },
  "language_info": {
   "codemirror_mode": {
    "name": "ipython",
    "version": 3
   },
   "file_extension": ".py",
   "mimetype": "text/x-python",
   "name": "python",
   "nbconvert_exporter": "python",
   "pygments_lexer": "ipython3",
   "version": "3.11.8"
  }
 },
 "nbformat": 4,
 "nbformat_minor": 5
}
